{
 "cells": [
  {
   "cell_type": "code",
   "execution_count": 51,
   "metadata": {},
   "outputs": [
    {
     "name": "stdout",
     "output_type": "stream",
     "text": [
      "1\n",
      "2\n",
      "fizz\n",
      "4\n",
      "buzz\n",
      "fizz\n",
      "7\n",
      "8\n",
      "fizz\n",
      "buzz\n"
     ]
    }
   ],
   "source": [
    "for i in range(1,10 +1):\n",
    "    if i % 15 ==0:\n",
    "        print(\"fizzbuzz\")\n",
    "        \n",
    "    elif i % 3 == 0:\n",
    "            print(\"fizz\")\n",
    "    elif i % 5 == 0:\n",
    "            print(\"buzz\")\n",
    "    else:\n",
    "           print(i)\n",
    "            \n"
   ]
  },
  {
   "cell_type": "code",
   "execution_count": 77,
   "metadata": {},
   "outputs": [
    {
     "data": {
      "text/plain": [
       "[1, 2, 'fizz', 4, 'buzz', 'fizz', 7, 8, 'fizz', 'buzz']"
      ]
     },
     "execution_count": 77,
     "metadata": {},
     "output_type": "execute_result"
    }
   ],
   "source": [
    "on_line_fizzbuzz = [ \"fizz\"*(i%3==0) + \"buzz\"*(i%5==0) or i for i in range(1,10+1)]\n",
    "on_line_fizzbuzz"
   ]
  },
  {
   "cell_type": "code",
   "execution_count": 73,
   "metadata": {},
   "outputs": [
    {
     "name": "stdout",
     "output_type": "stream",
     "text": [
      "1\n"
     ]
    }
   ],
   "source": [
    "for i in range(1,1+1):\n",
    "    print(\"fizz\"*(i%3==0) + \"buzz\"*(i%5==0) or i )\n",
    "    \n",
    "    # i or \"~~~\" 하면 안됨 or 특징 왼쪽부터 읽어서 "
   ]
  },
  {
   "cell_type": "code",
   "execution_count": null,
   "metadata": {
    "collapsed": true
   },
   "outputs": [],
   "source": []
  }
 ],
 "metadata": {
  "kernelspec": {
   "display_name": "Python 3",
   "language": "python",
   "name": "python3"
  },
  "language_info": {
   "codemirror_mode": {
    "name": "ipython",
    "version": 3
   },
   "file_extension": ".py",
   "mimetype": "text/x-python",
   "name": "python",
   "nbconvert_exporter": "python",
   "pygments_lexer": "ipython3",
   "version": "3.6.1"
  }
 },
 "nbformat": 4,
 "nbformat_minor": 2
}
