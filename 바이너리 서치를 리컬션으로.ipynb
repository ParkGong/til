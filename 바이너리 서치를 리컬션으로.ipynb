{
 "cells": [
  {
   "cell_type": "code",
   "execution_count": 3,
   "metadata": {},
   "outputs": [
    {
     "name": "stdout",
     "output_type": "stream",
     "text": [
      "찾는 데이터의 인덱스는 2이고 데이터는 9 입니다\n"
     ]
    }
   ],
   "source": [
    "def binary_search(target, start, end, data):\n",
    "    if start > end:\n",
    "        return None\n",
    "\n",
    "    mid = (start + end)//2\n",
    "\n",
    "    if data[mid] == target:\n",
    "        return mid\n",
    "    elif data[mid] > target:\n",
    "        end = mid - 1\n",
    "    else:\n",
    "        start = mid + 1\n",
    "        \n",
    "    return binary_search(target, start, end, data)\n",
    "\n",
    "\n",
    "if __name__ == \"__main__\":\n",
    "    data = [i**2 for i in range(1, 11)]\n",
    "        \n",
    "    #target = 4\n",
    "    target = 9\n",
    "    start = 0\n",
    "    end = len(data) -1\n",
    "    \n",
    "    idx = binary_search(target, start, end, data)\n",
    "\n",
    "    if idx == None:\n",
    "        print(\"{}이 존재하지 않습니다\".format(target))\n",
    "    else:\n",
    "        print(\"찾는 데이터의 인덱스는 {}이고 데이터는 {} 입니다\".format(idx, data[idx]))"
   ]
  },
  {
   "cell_type": "code",
   "execution_count": null,
   "metadata": {
    "collapsed": true
   },
   "outputs": [],
   "source": []
  }
 ],
 "metadata": {
  "kernelspec": {
   "display_name": "Python 3",
   "language": "python",
   "name": "python3"
  },
  "language_info": {
   "codemirror_mode": {
    "name": "ipython",
    "version": 3
   },
   "file_extension": ".py",
   "mimetype": "text/x-python",
   "name": "python",
   "nbconvert_exporter": "python",
   "pygments_lexer": "ipython3",
   "version": "3.6.1"
  }
 },
 "nbformat": 4,
 "nbformat_minor": 2
}
