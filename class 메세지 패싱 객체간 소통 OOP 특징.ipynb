{
 "cells": [
  {
   "cell_type": "code",
   "execution_count": 13,
   "metadata": {
    "collapsed": true
   },
   "outputs": [],
   "source": [
    "class Account:\n",
    "    def __init__(self, name, money):\n",
    "        self.user = name\n",
    "        self.balance = money\n",
    "        \n",
    "    def __delf(self):\n",
    "        print(\"Account object deleted!\")\n",
    "        \n",
    "    def deposit(self, money):\n",
    "        if money <= 0:\n",
    "            return None\n",
    "        else:\n",
    "            self.balance += money\n",
    "            return self.balance\n",
    "        \n",
    "    def withdraw(self, money):\n",
    "        if money <= self.balance:\n",
    "            self.balance -= money\n",
    "            return True\n",
    "        else:\n",
    "            return False\n",
    "        \n",
    "    def transfer(self, other, money): #other???????\n",
    "        res = self.withdraw(money)\n",
    "        if res:\n",
    "            #다른 객체의 함수를 호출 -> 내부정보를 바꿈 \n",
    "            #바로 멤버로 가지말고\n",
    "            #함수 호출로 접근해야 OOP적인거임\n",
    "            #객체와 객체간의 통신은 함수호출로 상대 객체의\n",
    "            #내부정보를 바꿈\n",
    "            other.deposit(money)\n",
    "            return True\n",
    "        else:\n",
    "            return False\n",
    "        \n",
    "        \n",
    "    def __str__(self):\n",
    "        return'{} : {}'.format(self.user, self.balance)"
   ]
  },
  {
   "cell_type": "code",
   "execution_count": 14,
   "metadata": {},
   "outputs": [],
   "source": [
    "myacnt = Account('greg', 5000)\n",
    "youracnt = Account('john', 1000)"
   ]
  },
  {
   "cell_type": "code",
   "execution_count": 15,
   "metadata": {},
   "outputs": [
    {
     "name": "stdout",
     "output_type": "stream",
     "text": [
      "greg : 5000\n"
     ]
    }
   ],
   "source": [
    "print(myacnt)"
   ]
  },
  {
   "cell_type": "code",
   "execution_count": 16,
   "metadata": {},
   "outputs": [
    {
     "name": "stdout",
     "output_type": "stream",
     "text": [
      "john : 1000\n"
     ]
    }
   ],
   "source": [
    "print(youracnt)"
   ]
  },
  {
   "cell_type": "code",
   "execution_count": 17,
   "metadata": {},
   "outputs": [
    {
     "data": {
      "text/plain": [
       "True"
      ]
     },
     "execution_count": 17,
     "metadata": {},
     "output_type": "execute_result"
    }
   ],
   "source": [
    "myacnt.withdraw(300)"
   ]
  },
  {
   "cell_type": "code",
   "execution_count": 18,
   "metadata": {},
   "outputs": [
    {
     "name": "stdout",
     "output_type": "stream",
     "text": [
      "greg : 4700\n"
     ]
    }
   ],
   "source": [
    "print(myacnt)"
   ]
  },
  {
   "cell_type": "code",
   "execution_count": 19,
   "metadata": {},
   "outputs": [
    {
     "data": {
      "text/plain": [
       "5000"
      ]
     },
     "execution_count": 19,
     "metadata": {},
     "output_type": "execute_result"
    }
   ],
   "source": [
    "myacnt.deposit(300)"
   ]
  },
  {
   "cell_type": "code",
   "execution_count": 21,
   "metadata": {},
   "outputs": [
    {
     "data": {
      "text/plain": [
       "True"
      ]
     },
     "execution_count": 21,
     "metadata": {},
     "output_type": "execute_result"
    }
   ],
   "source": [
    "myacnt.transfer(youracnt , 300)"
   ]
  },
  {
   "cell_type": "code",
   "execution_count": 22,
   "metadata": {},
   "outputs": [
    {
     "name": "stdout",
     "output_type": "stream",
     "text": [
      "greg : 4400\n"
     ]
    }
   ],
   "source": [
    "print(myacnt)"
   ]
  },
  {
   "cell_type": "code",
   "execution_count": null,
   "metadata": {
    "collapsed": true
   },
   "outputs": [],
   "source": []
  }
 ],
 "metadata": {
  "kernelspec": {
   "display_name": "Python 3",
   "language": "python",
   "name": "python3"
  },
  "language_info": {
   "codemirror_mode": {
    "name": "ipython",
    "version": 3
   },
   "file_extension": ".py",
   "mimetype": "text/x-python",
   "name": "python",
   "nbconvert_exporter": "python",
   "pygments_lexer": "ipython3",
   "version": "3.6.1"
  }
 },
 "nbformat": 4,
 "nbformat_minor": 2
}
