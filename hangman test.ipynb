{
 "cells": [
  {
   "cell_type": "code",
   "execution_count": 7,
   "metadata": {},
   "outputs": [],
   "source": [
    "def hangman(secret_word):\n",
    "    '''\n",
    "    secret_word: string, the secret word to guess.\n",
    "    \n",
    "    Starts up an interactive game of Hangman.\n",
    "    \n",
    "    * At the start of the game, let the user know how many \n",
    "      letters the secret_word contains and how many guesses s/he starts with.\n",
    "      \n",
    "    * The user should start with 6 guesses\n",
    "\n",
    "    * Before each round, you should display to the user how many guesses\n",
    "      s/he has left and the letters that the user has not yet guessed.\n",
    "    \n",
    "    * Ask the user to supply one guess per round. Remember to make\n",
    "      sure that the user puts in a letter!\n",
    "    \n",
    "    * The user should receive feedback immediately after each guess \n",
    "      about whether their guess appears in the computer's word.\n",
    "\n",
    "    * After each guess, you should display to the user the \n",
    "      partially guessed word so far.\n",
    "    \n",
    "    Follows the other limitations detailed in the problem write-up.\n",
    "\n",
    "    '''\n",
    "\n",
    "    # FILL IN YOUR CODE HERE AND DELETE \"pass\"\n",
    "    trial = 6\n",
    "    print(\"Welcome to the game Hangman!\\nI am thinking of a word that {} letters long.\\n{} Guess it \\nYou have {} guessess left\".format(len(secret_word),trial,trial))\n",
    "    print(trial)"
   ]
  },
  {
   "cell_type": "code",
   "execution_count": 9,
   "metadata": {},
   "outputs": [
    {
     "name": "stdout",
     "output_type": "stream",
     "text": [
      "Welcome to the game Hangman!\n",
      "I am thinking of a word that 5 letters long.\n",
      "6 Guess it \n",
      "You have 6 guessess left\n",
      "6\n"
     ]
    }
   ],
   "source": [
    "hangman('apple')"
   ]
  },
  {
   "cell_type": "code",
   "execution_count": null,
   "metadata": {
    "collapsed": true
   },
   "outputs": [],
   "source": []
  }
 ],
 "metadata": {
  "kernelspec": {
   "display_name": "Python 3",
   "language": "python",
   "name": "python3"
  },
  "language_info": {
   "codemirror_mode": {
    "name": "ipython",
    "version": 3
   },
   "file_extension": ".py",
   "mimetype": "text/x-python",
   "name": "python",
   "nbconvert_exporter": "python",
   "pygments_lexer": "ipython3",
   "version": "3.6.1"
  }
 },
 "nbformat": 4,
 "nbformat_minor": 2
}
