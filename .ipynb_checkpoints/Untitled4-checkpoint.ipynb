{
 "cells": [
  {
   "cell_type": "code",
   "execution_count": 13,
   "metadata": {},
   "outputs": [
    {
     "name": "stdout",
     "output_type": "stream",
     "text": [
      "two nums with space: 7 12\n",
      "   7      12 keep\n",
      "   3      24 keep\n",
      "   1      48 keep\n",
      "the result is 84\n"
     ]
    }
   ],
   "source": [
    "numbers = str(input(\"two nums with space: \")).split()\n",
    "\n",
    "result = 0\n",
    "\n",
    "num1 = int(numbers[0])\n",
    "num2 = int(numbers[1])\n",
    "\n",
    "while num1 >= 1:\n",
    "    if num1 % 2 == 0:\n",
    "        print(\"%4d %7d struck\" % (num1, num2))\n",
    "    else:\n",
    "        print(\"%4d %7d keep\" % (num1, num2))\n",
    "        result += num2\n",
    "        \n",
    "    num1 = num1 //2\n",
    "    num2 = num2 *2\n",
    "    \n",
    "print(\"the result is\", result)\n",
    "\n"
   ]
  },
  {
   "cell_type": "code",
   "execution_count": null,
   "metadata": {
    "collapsed": true
   },
   "outputs": [],
   "source": [
    "\n"
   ]
  },
  {
   "cell_type": "code",
   "execution_count": null,
   "metadata": {},
   "outputs": [],
   "source": []
  },
  {
   "cell_type": "code",
   "execution_count": null,
   "metadata": {
    "collapsed": true
   },
   "outputs": [],
   "source": []
  },
  {
   "cell_type": "code",
   "execution_count": null,
   "metadata": {
    "collapsed": true
   },
   "outputs": [],
   "source": []
  }
 ],
 "metadata": {
  "kernelspec": {
   "display_name": "Python 3",
   "language": "python",
   "name": "python3"
  },
  "language_info": {
   "codemirror_mode": {
    "name": "ipython",
    "version": 3
   },
   "file_extension": ".py",
   "mimetype": "text/x-python",
   "name": "python",
   "nbconvert_exporter": "python",
   "pygments_lexer": "ipython3",
   "version": "3.6.1"
  }
 },
 "nbformat": 4,
 "nbformat_minor": 2
}
