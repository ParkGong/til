{
 "cells": [
  {
   "cell_type": "code",
   "execution_count": 6,
   "metadata": {},
   "outputs": [
    {
     "name": "stdout",
     "output_type": "stream",
     "text": [
      "what's your name?parkgong\n",
      "Hi,parkgongguess the number:29\n",
      "That's not what i wanted!! The answer was 59\n"
     ]
    }
   ],
   "source": [
    "import random\n",
    "\n",
    "\n",
    "answer = random.randint(1,100)\n",
    "username = input(\"what's your name?\")\n",
    "guess = eval(input(\"Hi,\"+ username + \"guess the number:\"))\n",
    "\n",
    "if guess == answer:\n",
    "    print(\"correct\", str(answer))\n",
    "else:\n",
    "    print(\"That's not what i wanted!! The answer was\", str(answer))"
   ]
  },
  {
   "cell_type": "code",
   "execution_count": null,
   "metadata": {
    "collapsed": true
   },
   "outputs": [],
   "source": [
    "username = input(\"what's your name?\")\n",
    "guess = eval(input(\"Hi,\"+ username + \"guess the number:\"))\n",
    "\n",
    "if guess == answer:\n",
    "    print(\"correct\", str(answer))\n",
    "else:\n",
    "    print(\"That's not what i wanted!! The answer was\", str(answer))"
   ]
  }
 ],
 "metadata": {
  "kernelspec": {
   "display_name": "Python 3",
   "language": "python",
   "name": "python3"
  },
  "language_info": {
   "codemirror_mode": {
    "name": "ipython",
    "version": 3
   },
   "file_extension": ".py",
   "mimetype": "text/x-python",
   "name": "python",
   "nbconvert_exporter": "python",
   "pygments_lexer": "ipython3",
   "version": "3.6.1"
  }
 },
 "nbformat": 4,
 "nbformat_minor": 2
}
