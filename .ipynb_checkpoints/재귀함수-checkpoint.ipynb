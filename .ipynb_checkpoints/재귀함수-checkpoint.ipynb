{
 "cells": [
  {
   "cell_type": "code",
   "execution_count": 2,
   "metadata": {},
   "outputs": [
    {
     "name": "stdout",
     "output_type": "stream",
     "text": [
      "How many times want to curse the beast??: 10\n",
      "Fusion!!!(9 times left)\n",
      "Fusion!!!(8 times left)\n",
      "Fusion!!!(7 times left)\n",
      "Fusion!!!(6 times left)\n",
      "Fusion!!!(5 times left)\n",
      "Fusion!!!(4 times left)\n",
      "Fusion!!!(3 times left)\n",
      "Fusion!!!(2 times left)\n",
      "Fusion!!!(1 times left)\n",
      "Fusion!!!(0 times left)\n",
      "curse complete!\n"
     ]
    }
   ],
   "source": [
    "\n",
    "def recurse_beast(a):\n",
    "    if a == 0:\n",
    "        print(\"curse complete!\")\n",
    "    else:\n",
    "        print(\"Fusion!!!(%d times left)\" % (a-1))\n",
    "        recurse_beast(a - 1)\n",
    "times = int(input(\"How many times want to curse the beast??: \"))\n",
    "recurse_beast(times)"
   ]
  },
  {
   "cell_type": "code",
   "execution_count": null,
   "metadata": {
    "collapsed": true
   },
   "outputs": [],
   "source": []
  }
 ],
 "metadata": {
  "kernelspec": {
   "display_name": "Python 3",
   "language": "python",
   "name": "python3"
  },
  "language_info": {
   "codemirror_mode": {
    "name": "ipython",
    "version": 3
   },
   "file_extension": ".py",
   "mimetype": "text/x-python",
   "name": "python",
   "nbconvert_exporter": "python",
   "pygments_lexer": "ipython3",
   "version": "3.6.1"
  }
 },
 "nbformat": 4,
 "nbformat_minor": 2
}
