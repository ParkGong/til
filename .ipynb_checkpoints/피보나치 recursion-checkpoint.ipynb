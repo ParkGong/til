{
 "cells": [
  {
   "cell_type": "code",
   "execution_count": null,
   "metadata": {
    "collapsed": true
   },
   "outputs": [],
   "source": [
    "#1.n == 0 or n == 1 -> 1\n",
    "#2.v(n) = v(n-1) + v(n - 2)\n",
    "\n",
    "\n",
    "def fibonacci(n):\n",
    "    if n == 0 or n == 1:\n",
    "        return 1\n",
    "    return fibonacci(n-1) + fibonacci(n-2)\n"
   ]
  },
  {
   "cell_type": "code",
   "execution_count": null,
   "metadata": {},
   "outputs": [],
   "source": [
    "for i in range(1,10):\n",
    "    print(fibonacci(i), end = '  ')"
   ]
  },
  {
   "cell_type": "code",
   "execution_count": 3,
   "metadata": {},
   "outputs": [],
   "source": [
    "def hanoi(n, A, B, C):\n",
    "    #탈출 조건\n",
    "    if n == 1:\n",
    "        print(\"{}에서 {}로 {} 번째 원반 이동\".format(A, C, n))\n",
    "        return\n",
    "\n",
    "    hanoi(n-1, A, B, C)\n",
    "    print(\"{}에서 {}로 {} 번째 원반 이동\".format(A, C, n))\n",
    "    hanoi(n-1, B, A, C)\n",
    "    "
   ]
  },
  {
   "cell_type": "code",
   "execution_count": null,
   "metadata": {},
   "outputs": [
    {
     "name": "stdout",
     "output_type": "stream",
     "text": [
      "원반의 개수를 입력하세요!(종료 : 0) :3\n",
      "A에서 C로 1 번째 원반 이동\n",
      "A에서 C로 2 번째 원반 이동\n",
      "B에서 C로 1 번째 원반 이동\n",
      "A에서 C로 3 번째 원반 이동\n",
      "B에서 C로 1 번째 원반 이동\n",
      "B에서 C로 2 번째 원반 이동\n",
      "A에서 C로 1 번째 원반 이동\n"
     ]
    }
   ],
   "source": [
    "if __name__ == \"__main__\":\n",
    "    while 1:\n",
    "        numOfTray = int(input(\"원반의 개수를 입력하세요!(종료 : 0) :\"))\n",
    "        if numOfTray == 0:\n",
    "            break\n",
    "        hanoi(numOfTray, 'A', 'B', 'C')"
   ]
  },
  {
   "cell_type": "code",
   "execution_count": null,
   "metadata": {
    "collapsed": true
   },
   "outputs": [],
   "source": []
  },
  {
   "cell_type": "code",
   "execution_count": null,
   "metadata": {
    "collapsed": true
   },
   "outputs": [],
   "source": []
  }
 ],
 "metadata": {
  "kernelspec": {
   "display_name": "Python 3",
   "language": "python",
   "name": "python3"
  },
  "language_info": {
   "codemirror_mode": {
    "name": "ipython",
    "version": 3
   },
   "file_extension": ".py",
   "mimetype": "text/x-python",
   "name": "python",
   "nbconvert_exporter": "python",
   "pygments_lexer": "ipython3",
   "version": "3.6.1"
  }
 },
 "nbformat": 4,
 "nbformat_minor": 2
}
