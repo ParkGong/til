{
 "cells": [
  {
   "cell_type": "code",
   "execution_count": null,
   "metadata": {},
   "outputs": [],
   "source": [
    "def outer(func):\n",
    "    def inner(*args, **kwargs):\n",
    "        print(\"Things\")\n",
    "        return func(*args, **kwargs)\n",
    "    return inner\n",
    "\n",
    "def adder(a,b):\n",
    "    return a+b\n",
    "\n",
    "adder = outer(adder)\n",
    "\n",
    "c = adder(5,3,a =10)\n",
    "c"
   ]
  },
  {
   "cell_type": "code",
   "execution_count": 57,
   "metadata": {},
   "outputs": [
    {
     "name": "stdout",
     "output_type": "stream",
     "text": [
      "call number : 1\n",
      "call number : 2\n",
      "call number : 3\n",
      "call number : 4\n",
      "call number : 5\n",
      "call number : 6\n",
      "call number : 7\n",
      "call number : 8\n",
      "call number : 9\n",
      "call number : 10\n"
     ]
    }
   ],
   "source": [
    "def call_count(func):\n",
    "    cnt = 0\n",
    "    def inner(*args, **kwargs):\n",
    "        nonlocal cnt\n",
    "        cnt += 1\n",
    "        print(\"call number : {}\".format(cnt))\n",
    "        return func(*args, **kwargs)\n",
    "    return inner\n",
    "\n",
    "@call_count\n",
    "def adder(a,b):\n",
    "    return a+b\n",
    "\n",
    "for i in range(1, 11):\n",
    "    a = i +1\n",
    "    b = i +2\n",
    "    adder(a,b)"
   ]
  },
  {
   "cell_type": "code",
   "execution_count": 58,
   "metadata": {},
   "outputs": [
    {
     "name": "stdout",
     "output_type": "stream",
     "text": [
      "elsapes time : 3.000091314315796 sec\n"
     ]
    },
    {
     "data": {
      "text/plain": [
       "8"
      ]
     },
     "execution_count": 58,
     "metadata": {},
     "output_type": "execute_result"
    }
   ],
   "source": [
    "\n",
    "\n",
    "\n",
    "\n",
    "import time\n",
    "\n",
    "def timer(func):\n",
    "    def inner(*args, **kwargs):\n",
    "        start = time.time()\n",
    "        ret = func(*args, **kwargs)\n",
    "        elapsed = time.time() - start\n",
    "        print('elsapes time : {} sec'.format(elapsed))\n",
    "        return ret\n",
    "    return inner\n",
    "        \n",
    "    \n",
    "@timer\n",
    "\n",
    "def adder(a,b):\n",
    "    time.sleep(3)\n",
    "    return a + b\n",
    "\n",
    "\n",
    "\n",
    "\n",
    "\n",
    "adder(3,5)\n"
   ]
  },
  {
   "cell_type": "code",
   "execution_count": 42,
   "metadata": {},
   "outputs": [
    {
     "name": "stdout",
     "output_type": "stream",
     "text": [
      "2.0002188682556152\n"
     ]
    }
   ],
   "source": [
    "import time\n",
    "#time.sleep(n) : n초 ajacnj\n",
    "start = time.time()\n",
    "time.sleep(2)\n",
    "elapsed = time.time() - start\n",
    "\n",
    "print(elapsed)\n"
   ]
  },
  {
   "cell_type": "code",
   "execution_count": 38,
   "metadata": {},
   "outputs": [
    {
     "data": {
      "text/plain": [
       "3.12312"
      ]
     },
     "execution_count": 38,
     "metadata": {},
     "output_type": "execute_result"
    }
   ],
   "source": [
    "round(3.12312125213,5) # 소숫점 5번쨰서 반올림"
   ]
  },
  {
   "cell_type": "code",
   "execution_count": 69,
   "metadata": {
    "scrolled": true
   },
   "outputs": [
    {
     "name": "stdout",
     "output_type": "stream",
     "text": [
      "gim\n",
      "call number : 1\n",
      "gim\n",
      "5 4\n",
      "elapsed time: 3.0012147426605225 sec\n"
     ]
    },
    {
     "data": {
      "text/plain": [
       "20"
      ]
     },
     "execution_count": 69,
     "metadata": {},
     "output_type": "execute_result"
    }
   ],
   "source": [
    "from functools import wraps\n",
    "\n",
    "\n",
    "\n",
    "def call_count(func):\n",
    "    cnt = 0\n",
    "    @wraps(func)\n",
    "    def inner_count(*args, **kwargs):\n",
    "        print(func.__name__)\n",
    "        nonlocal cnt\n",
    "        cnt += 1\n",
    "        print(\"call number : {}\".format(cnt))\n",
    "        return func(*args, **kwargs)\n",
    "    return inner_count\n",
    "\n",
    "\n",
    "import time\n",
    "\n",
    "\n",
    "def timer(func):\n",
    "    @wraps(func)\n",
    "    def inner_timer(*args, ** kwargs):\n",
    "        print(func.__name__)\n",
    "        start = time.time()\n",
    "        ret = func(*args, **kwargs)\n",
    "        elapsed = time.time() - start\n",
    "        print('elapsed time: {} sec'. format(elapsed))\n",
    "        return ret\n",
    "    return inner_timer\n",
    "@call_count\n",
    "@timer\n",
    "def gim(a,b):\n",
    "    time.sleep(3)\n",
    "    print(a,b)\n",
    "    \n",
    "    return a*b\n",
    "gim(5,4)\n",
    "\n",
    "# gim -> ineer_timer(gim) 이 됨 밑에서부터 합성함수 "
   ]
  },
  {
   "cell_type": "code",
   "execution_count": 15,
   "metadata": {},
   "outputs": [
    {
     "name": "stdout",
     "output_type": "stream",
     "text": [
      "Things\n",
      "14\n"
     ]
    }
   ],
   "source": [
    "def outer(func):\n",
    "    def inner(*args, **kwargs):\n",
    "        print(\"Things\")\n",
    "        return func(*args, **kwargs)\n",
    "    return inner\n",
    "\n",
    "def adder(a,b):\n",
    "    \n",
    "    return a+b\n",
    "\n",
    "adder = outer(adder)\n",
    "\n",
    "c = adder(10,4)\n",
    "print(c)"
   ]
  },
  {
   "cell_type": "code",
   "execution_count": null,
   "metadata": {
    "collapsed": true
   },
   "outputs": [],
   "source": []
  }
 ],
 "metadata": {
  "kernelspec": {
   "display_name": "Python 3",
   "language": "python",
   "name": "python3"
  },
  "language_info": {
   "codemirror_mode": {
    "name": "ipython",
    "version": 3
   },
   "file_extension": ".py",
   "mimetype": "text/x-python",
   "name": "python",
   "nbconvert_exporter": "python",
   "pygments_lexer": "ipython3",
   "version": "3.6.1"
  }
 },
 "nbformat": 4,
 "nbformat_minor": 2
}
