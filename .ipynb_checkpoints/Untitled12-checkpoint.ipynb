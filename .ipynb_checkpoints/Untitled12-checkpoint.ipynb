{
 "cells": [
  {
   "cell_type": "code",
   "execution_count": 1,
   "metadata": {},
   "outputs": [],
   "source": [
    "from linked_list import *"
   ]
  },
  {
   "cell_type": "code",
   "execution_count": 35,
   "metadata": {},
   "outputs": [],
   "source": [
    "class LinkedListEx(Linked_list):\n",
    "    def search(self, target, mode = 'next'):\n",
    "        if mode == 'first':\n",
    "            data = self.traverse('first')\n",
    "        else:\n",
    "            data = self.traverse('next')\n",
    "            \n",
    "        while data:\n",
    "            if data == target:\n",
    "                return data\n",
    "            data = self.traverse()\n",
    "            \n",
    "        return None\n",
    "            \n",
    "            \n",
    "    \n",
    "    def update(self, data):\n",
    "        self.current.data = data\n",
    "        \n",
    "        \n",
    "    def remove(self, target):\n",
    "        data = self.traverse('first')\n",
    "        while data:\n",
    "            if data == target:\n",
    "                super().remove()\n",
    "                \n",
    "            data = self.traverse()\n",
    "    \n",
    "    \n",
    "    def count(self, target):\n",
    "        cnt = 0\n",
    "        data = self.search(target, 'first')\n",
    "        while data:\n",
    "            cnt += 1\n",
    "            data = self.search(target)\n",
    "            \n",
    "        return print(\"target: {} is {}\".format(target,cnt))\n",
    "    def replace(self, target, f):\n",
    "        data = self.search(target, 'first')\n",
    "        while data:\n",
    "            self.update(f(data))\n",
    "            data = self.search(target)\n",
    "        "
   ]
  },
  {
   "cell_type": "code",
   "execution_count": 36,
   "metadata": {},
   "outputs": [
    {
     "name": "stdout",
     "output_type": "stream",
     "text": [
      "data of 9 is deleted\n",
      "data of 1 is deleted\n",
      "data of 5 is deleted\n",
      "data of 10 is deleted\n",
      "data of 7 is deleted\n",
      "data of 9 is deleted\n",
      "데이터의 개수 : 0\n",
      "There is no data\n",
      "\n",
      "\n",
      "데이터의 개수 : 8\n",
      "2  3  1  5  2  10  7  2  \n",
      "\n",
      "데이터의 개수 : 9\n",
      "2  3  1  5  2  10  7  2  3  data of 2 is deleted\n",
      "data of 2 is deleted\n",
      "data of 2 is deleted\n",
      "target: 3 is 2\n"
     ]
    }
   ],
   "source": [
    "if __name__ == \"__main__\":\n",
    "    slist = LinkedListEx()#1\n",
    "    print(\"데이터의 개수 : {}\".format(slist.size()))\n",
    "    show_list(slist)\n",
    "    print(\"\\n\")\n",
    "\n",
    "    slist.append(2)#2\n",
    "    slist.append(3)\n",
    "    slist.append(1)\n",
    "    slist.append(5)\n",
    "    slist.append(2)\n",
    "    slist.append(10)\n",
    "    slist.append(7)\n",
    "    slist.append(2)\n",
    "    \n",
    "    \n",
    "    print(\"데이터의 개수 : {}\".format(slist.size()))\n",
    "    show_list(slist)\n",
    "    print(\"\\n\")\n",
    "    \n",
    "\n",
    "    slist.append(3)\n",
    "\n",
    "    print(\"데이터의 개수 : {}\".format(slist.size()))\n",
    "    show_list(slist)\n",
    "\n",
    "    slist.remove(2)\n",
    "    slist.count(3)\n",
    "    slist.replace(3,lambda x : x *3)"
   ]
  },
  {
   "cell_type": "code",
   "execution_count": 32,
   "metadata": {},
   "outputs": [
    {
     "name": "stdout",
     "output_type": "stream",
     "text": [
      "9  1  5  10  7  9  "
     ]
    }
   ],
   "source": [
    "show_list(slist)"
   ]
  },
  {
   "cell_type": "code",
   "execution_count": null,
   "metadata": {
    "collapsed": true
   },
   "outputs": [],
   "source": []
  },
  {
   "cell_type": "code",
   "execution_count": null,
   "metadata": {
    "collapsed": true
   },
   "outputs": [],
   "source": []
  }
 ],
 "metadata": {
  "kernelspec": {
   "display_name": "Python 3",
   "language": "python",
   "name": "python3"
  },
  "language_info": {
   "codemirror_mode": {
    "name": "ipython",
    "version": 3
   },
   "file_extension": ".py",
   "mimetype": "text/x-python",
   "name": "python",
   "nbconvert_exporter": "python",
   "pygments_lexer": "ipython3",
   "version": "3.6.1"
  }
 },
 "nbformat": 4,
 "nbformat_minor": 2
}
