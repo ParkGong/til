{
 "cells": [
  {
   "cell_type": "code",
   "execution_count": 3,
   "metadata": {
    "collapsed": true
   },
   "outputs": [],
   "source": [
    "class Perosn:\n",
    "    planet = 'Earth'\n",
    "    def __init__ (self, name, age):\n",
    "        #intance member\n",
    "        self.name = name\n",
    "        self.age = age\n",
    "        self.nationality = None\n",
    "        \n",
    "    def __del__(self):\n",
    "        pass\n",
    "    def eat(self, food):\n",
    "        print('{} : {}' .format(self.name, food))\n",
    "    def sleep(self, hour):\n",
    "    \n",
    "        pass"
   ]
  },
  {
   "cell_type": "code",
   "execution_count": null,
   "metadata": {
    "collapsed": true
   },
   "outputs": [],
   "source": []
  }
 ],
 "metadata": {
  "kernelspec": {
   "display_name": "Python 3",
   "language": "python",
   "name": "python3"
  },
  "language_info": {
   "codemirror_mode": {
    "name": "ipython",
    "version": 3
   },
   "file_extension": ".py",
   "mimetype": "text/x-python",
   "name": "python",
   "nbconvert_exporter": "python",
   "pygments_lexer": "ipython3",
   "version": "3.6.1"
  }
 },
 "nbformat": 4,
 "nbformat_minor": 2
}
