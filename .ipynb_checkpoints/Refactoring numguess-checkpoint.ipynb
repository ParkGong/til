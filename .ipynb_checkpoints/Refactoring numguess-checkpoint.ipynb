{
 "cells": [
  {
   "cell_type": "code",
   "execution_count": null,
   "metadata": {},
   "outputs": [
    {
     "name": "stdout",
     "output_type": "stream",
     "text": [
      "hi there, What's your name??ParkGOng\n",
      "HiParkGOng, guess the number: 159\n",
      "That's not what I wanted!! Try again!!\n",
      "HiParkGOng, guess the number: 122\n",
      "That's not what I wanted!! Try again!!\n",
      "HiParkGOng, guess the number: 100\n",
      "That's not what I wanted!! Try again!!\n",
      "HiParkGOng, guess the number: 15\n",
      "That's not what I wanted!! Try again!!\n",
      "HiParkGOng, guess the number: 26\n",
      "That's not what I wanted!! Try again!!\n"
     ]
    }
   ],
   "source": [
    "import random\n",
    "\n",
    "answer = random.randint(1,100)\n",
    "username = input(\"hi there, What's your name??\")\n",
    "\n",
    "while True:\n",
    "    guess = eval(input(\"Hi\"+ username + \", guess the number: \"))\n",
    "    \n",
    "    if guess == answer:\n",
    "            print(\"Correct! The answer was\",str(answer))\n",
    "            break\n",
    "    else:\n",
    "            print(\"That's not what I wanted!! Try again!!\")"
   ]
  },
  {
   "cell_type": "code",
   "execution_count": null,
   "metadata": {
    "collapsed": true
   },
   "outputs": [],
   "source": []
  }
 ],
 "metadata": {
  "kernelspec": {
   "display_name": "Python 3",
   "language": "python",
   "name": "python3"
  },
  "language_info": {
   "codemirror_mode": {
    "name": "ipython",
    "version": 3
   },
   "file_extension": ".py",
   "mimetype": "text/x-python",
   "name": "python",
   "nbconvert_exporter": "python",
   "pygments_lexer": "ipython3",
   "version": "3.6.1"
  }
 },
 "nbformat": 4,
 "nbformat_minor": 2
}
