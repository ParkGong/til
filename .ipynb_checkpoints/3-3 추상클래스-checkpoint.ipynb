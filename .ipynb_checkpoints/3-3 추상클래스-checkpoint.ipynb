{
 "cells": [
  {
   "cell_type": "code",
   "execution_count": 1,
   "metadata": {
    "collapsed": true
   },
   "outputs": [],
   "source": [
    "#abstract.class 추상클래스\n",
    "#인스턴스를 만들수 없다\n",
    "#최소한 하나 이상의 abstract method(pure virtual function : 순수 가상 함수)포함해야함\n",
    "#abstract method 함수 몸체가 없음 -> 정의되어 있지 않음\n",
    "#반드시 자식, 파생클래스에서 재정의 해야함"
   ]
  },
  {
   "cell_type": "code",
   "execution_count": 21,
   "metadata": {},
   "outputs": [],
   "source": [
    "from abc import *\n",
    "\n",
    "\n",
    "class Animal(metaclass = ABCMeta):\n",
    "    @abstractmethod\n",
    "    def say(self):\n",
    "        pass\n",
    "\n",
    "    \n",
    "class Dog(Animal):\n",
    "    def say(self):     #오버 라이딩 overriding\n",
    "        print('BOW-WOW')\n",
    "\n"
   ]
  },
  {
   "cell_type": "code",
   "execution_count": 22,
   "metadata": {
    "collapsed": true
   },
   "outputs": [],
   "source": [
    "d = Dog()"
   ]
  },
  {
   "cell_type": "code",
   "execution_count": 23,
   "metadata": {},
   "outputs": [
    {
     "name": "stdout",
     "output_type": "stream",
     "text": [
      "BOW-WOW\n"
     ]
    }
   ],
   "source": [
    "d.say()"
   ]
  },
  {
   "cell_type": "code",
   "execution_count": 24,
   "metadata": {
    "collapsed": true
   },
   "outputs": [],
   "source": [
    "class Cat(Animal):\n",
    "    def say(self):\n",
    "        print('MEW MEW')\n",
    "\n",
    "class Duck(Animal):\n",
    "    def say(self):\n",
    "        print('QUACK QUACK')"
   ]
  },
  {
   "cell_type": "code",
   "execution_count": 25,
   "metadata": {
    "collapsed": true
   },
   "outputs": [],
   "source": [
    "animals = []\n",
    "animals.append(Dog())\n",
    "animals.append(Cat())\n",
    "animals.append(Duck())"
   ]
  },
  {
   "cell_type": "code",
   "execution_count": 27,
   "metadata": {},
   "outputs": [
    {
     "name": "stdout",
     "output_type": "stream",
     "text": [
      "BOW-WOW\n",
      "MEW MEW\n",
      "QUACK QUACK\n"
     ]
    }
   ],
   "source": [
    "#다형성 polymorphism\n",
    "#같은 코드 -> 다른결과\n",
    "#같은 이름의 매서드를 호출\n",
    "#결과는 '객체에 따라 ' 다르다\n",
    "\n",
    "\n",
    "for animal in animals:\n",
    "    animal.say()"
   ]
  },
  {
   "cell_type": "code",
   "execution_count": null,
   "metadata": {
    "collapsed": true
   },
   "outputs": [],
   "source": []
  },
  {
   "cell_type": "code",
   "execution_count": null,
   "metadata": {
    "collapsed": true
   },
   "outputs": [],
   "source": []
  }
 ],
 "metadata": {
  "kernelspec": {
   "display_name": "Python 3",
   "language": "python",
   "name": "python3"
  },
  "language_info": {
   "codemirror_mode": {
    "name": "ipython",
    "version": 3
   },
   "file_extension": ".py",
   "mimetype": "text/x-python",
   "name": "python",
   "nbconvert_exporter": "python",
   "pygments_lexer": "ipython3",
   "version": "3.6.1"
  }
 },
 "nbformat": 4,
 "nbformat_minor": 2
}
