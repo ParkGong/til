{
 "cells": [
  {
   "cell_type": "code",
   "execution_count": 3,
   "metadata": {
    "collapsed": true
   },
   "outputs": [],
   "source": [
    "from stack import *"
   ]
  },
  {
   "cell_type": "code",
   "execution_count": null,
   "metadata": {
    "collapsed": true
   },
   "outputs": [],
   "source": [
    "class Calculator:\n",
    "    def __init__(self):\n",
    "        self.org_exp = None\n",
    "        self.postfix_exp = None\n",
    "        self.result = None\n",
    "\n",
    "    def set_org_exp(self, org_exp):\n",
    "        self.org_exp = org_exp.replace(' ', '')\n",
    "        self.postfix_exp = None\n",
    "        self.result = None\n",
    "\n",
    "    def get_org_exp(self):\n",
    "        return self.org_exp\n",
    "    \n",
    "    def get_weight(self, oprt):\n",
    "        if oprt == '*' or oprt == '/':\n",
    "            return 9\n",
    "        elif oprt == '+' or oprt == '-':\n",
    "            return 7\n",
    "        elif oprt == '(':\n",
    "            return 5\n",
    "        else:\n",
    "            return -1\n",
    "\n",
    "    def convert_to_postfix(self):\n",
    "        exp_list = []\n",
    "        oprt_stack = Stack()\n",
    "        \n",
    "        for ch in self.org_exp:\n",
    "            if ch.isdigit():\n",
    "                exp_list.append(ch)\n",
    "            #연산자라면\n",
    "            else:\n",
    "                #'(' or 연산자 스택이 비었다면\n",
    "                if ch == '(' or oprt_stack.empty():\n",
    "                    oprt_stack.push(ch)\n",
    "                #')'\n",
    "                elif ch == ')':\n",
    "                    op = oprt_stack.pop()\n",
    "                    while op != '(':\n",
    "                        exp_list.append(op)\n",
    "                        op = oprt_stack.pop()\n",
    "                #'+', '-', '*', '/' : 가중치가 높을 때\n",
    "                elif self.get_weight(ch) > \\\n",
    "                    self.get_weight(oprt_stack.peek()):\n",
    "                    oprt_stack.push(ch)\n",
    "                #'+', '-', '*', '/' : 가중치가 낮거나 같을 때\n",
    "                else:\n",
    "                    while oprt_stack and self.get_weight(ch) <=\\\n",
    "                          self.get_weight(oprt_stack.peek()):\n",
    "                        exp_list.append(oprt_stack.pop())\n",
    "                    oprt_stack.push(ch)\n",
    "        while oprt_stack:\n",
    "            exp_list.append(oprt_stack.pop())\n",
    "        self.postfix_exp = ''.join(exp_list)\n",
    "\n",
    "    def get_postfix_exp(self):\n",
    "        if not self.postfix_exp:\n",
    "            self.convert_to_postfix()\n",
    "\n",
    "        return self.postfix_exp\n",
    "\n",
    "    def calc_two_oprd(self, oprd1, oprd2, oprt):\n",
    "        if oprt == '+':\n",
    "            return oprd1 + oprd2\n",
    "        elif oprt == '-':\n",
    "            return oprd1 - oprd2\n",
    "        elif oprt == '*':\n",
    "            return oprd1 * oprd2\n",
    "        elif oprt == '/':\n",
    "            return oprd1 // oprd2\n",
    "\n",
    "    def calculate(self):\n",
    "        oprd_stack = Stack()\n",
    "\n",
    "        for ch in self.postfix_exp:\n",
    "            if ch.isdigit():\n",
    "                oprd_stack.push(int(ch))\n",
    "            #연산자라면\n",
    "            else:\n",
    "                oprd2 = oprd_stack.pop()\n",
    "                oprd1 = oprd_stack.pop()\n",
    "                oprd_stack.push(self.calc_two_oprd(\n",
    "                    oprd1, oprd2, ch))\n",
    "        self.result = oprd_stack.pop()\n",
    "\n",
    "    def get_result(self):\n",
    "        if not self.result:\n",
    "            self.calculate()\n",
    "            \n",
    "        return self.result"
   ]
  },
  {
   "cell_type": "code",
   "execution_count": null,
   "metadata": {},
   "outputs": [
    {
     "name": "stdout",
     "output_type": "stream",
     "text": [
      "수식을 입력하세요(종료 : 0) : (3 + 2 * 2 - 4) * 3 + 2 *(5 - 7)\n",
      "322*+4-3*257-*+\n",
      "(3+2*2-4)*3+2*(5-7) = 5\n"
     ]
    }
   ],
   "source": [
    "if __name__ == \"__main__\":\n",
    "    calc = Calculator()\n",
    "    while 1:\n",
    "        exp = input(\"수식을 입력하세요(종료 : 0) : \")\n",
    "        if exp == '0':\n",
    "            break\n",
    "        \n",
    "        calc.set_org_exp(exp)\n",
    "        print(calc.get_postfix_exp())\n",
    "        print(\"{exp} = {result}\".format(\n",
    "            exp = calc.get_org_exp(), result = calc.get_result()))               \n",
    "\n",
    "    \n",
    "    \n",
    "                            "
   ]
  },
  {
   "cell_type": "code",
   "execution_count": null,
   "metadata": {
    "collapsed": true
   },
   "outputs": [],
   "source": []
  }
 ],
 "metadata": {
  "kernelspec": {
   "display_name": "Python 3",
   "language": "python",
   "name": "python3"
  },
  "language_info": {
   "codemirror_mode": {
    "name": "ipython",
    "version": 3
   },
   "file_extension": ".py",
   "mimetype": "text/x-python",
   "name": "python",
   "nbconvert_exporter": "python",
   "pygments_lexer": "ipython3",
   "version": "3.6.1"
  }
 },
 "nbformat": 4,
 "nbformat_minor": 2
}
