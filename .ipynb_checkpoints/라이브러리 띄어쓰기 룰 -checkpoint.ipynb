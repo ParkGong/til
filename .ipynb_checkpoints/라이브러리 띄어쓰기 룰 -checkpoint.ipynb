{
 "cells": [
  {
   "cell_type": "code",
   "execution_count": null,
   "metadata": {
    "collapsed": true
   },
   "outputs": [],
   "source": [
    "import math\n",
    "\n",
    "\n",
    "print('hello world')\n",
    "\n",
    "class foo():\n",
    "    \n",
    "    def bar():\n",
    "        \n",
    "    def booz():\n",
    "        \n",
    "        \n",
    "        \n",
    "class foo2():\n",
    "    \n",
    "    # 라이브러리를 불러오는 import 는 2줄띄고 사용\n",
    "    \n",
    "    # 클래스와 클래스는 2줄 def 사이는 1줄만 띈다"
   ]
  }
 ],
 "metadata": {
  "kernelspec": {
   "display_name": "Python 3",
   "language": "python",
   "name": "python3"
  },
  "language_info": {
   "codemirror_mode": {
    "name": "ipython",
    "version": 3
   },
   "file_extension": ".py",
   "mimetype": "text/x-python",
   "name": "python",
   "nbconvert_exporter": "python",
   "pygments_lexer": "ipython3",
   "version": "3.6.1"
  }
 },
 "nbformat": 4,
 "nbformat_minor": 2
}
