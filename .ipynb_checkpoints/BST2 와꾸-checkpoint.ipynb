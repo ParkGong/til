{
 "cells": [
  {
   "cell_type": "code",
   "execution_count": 1,
   "metadata": {
    "collapsed": true
   },
   "outputs": [],
   "source": [
    "from binary_tree import *"
   ]
  },
  {
   "cell_type": "code",
   "execution_count": 3,
   "metadata": {},
   "outputs": [
    {
     "ename": "SyntaxError",
     "evalue": "unexpected EOF while parsing (<ipython-input-3-255f779d223f>, line 1)",
     "output_type": "error",
     "traceback": [
      "\u001b[1;36m  File \u001b[1;32m\"<ipython-input-3-255f779d223f>\"\u001b[1;36m, line \u001b[1;32m1\u001b[0m\n\u001b[1;33m    class BST(BinaryTree):\u001b[0m\n\u001b[1;37m                          ^\u001b[0m\n\u001b[1;31mSyntaxError\u001b[0m\u001b[1;31m:\u001b[0m unexpected EOF while parsing\n"
     ]
    }
   ],
   "source": [
    "class BST(BinaryTree):\n",
    "    def insert(self, data):\n",
    "        #데이터를 가진 새 노드 생성\n",
    "        \n",
    "        #예외처리 만약 빈 BST면 \n",
    "        \n",
    "        #빈게 아니면 적절한 위치를 찾아서 new노드를 삽입\n",
    "        while True:\n",
    "            pass\n",
    "        \n",
    "        \n",
    "        \n",
    "    \n",
    "    def search(self, target):\n",
    "        pass\n",
    "    \n",
    "    def romove_leaf(self, parent, del_node):\n",
    "        pass\n",
    "    def remove_one_child(self, parent, del_node):\n",
    "        pass\n",
    "    \n",
    "    def remove_two_children(self, del_node):\n",
    "        pass\n",
    "    def remove()"
   ]
  },
  {
   "cell_type": "code",
   "execution_count": null,
   "metadata": {
    "collapsed": true
   },
   "outputs": [],
   "source": []
  }
 ],
 "metadata": {
  "kernelspec": {
   "display_name": "Python 3",
   "language": "python",
   "name": "python3"
  },
  "language_info": {
   "codemirror_mode": {
    "name": "ipython",
    "version": 3
   },
   "file_extension": ".py",
   "mimetype": "text/x-python",
   "name": "python",
   "nbconvert_exporter": "python",
   "pygments_lexer": "ipython3",
   "version": "3.6.1"
  }
 },
 "nbformat": 4,
 "nbformat_minor": 2
}
