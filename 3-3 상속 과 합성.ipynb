{
 "cells": [
  {
   "cell_type": "code",
   "execution_count": null,
   "metadata": {
    "collapsed": true
   },
   "outputs": [],
   "source": [
    "# 상속은 is a\n",
    "\n",
    "# A labtop is a Computer\n",
    "# ~의 한 종류다 관계일때 상속을씀"
   ]
  },
  {
   "cell_type": "code",
   "execution_count": null,
   "metadata": {},
   "outputs": [],
   "source": [
    "class Computer:\n",
    "    def __init__(self, cpu,ram):\n",
    "    \n",
    "        self.CPU = cpu\n",
    "        self.RAM = ram\n",
    "    \n",
    "    def brows(self):\n",
    "        print(\"brows\")\n",
    "        \n",
    "    def work(self):\n",
    "        print(\"work\")\n",
    "        \n",
    "        \n",
    "#Base class 의 모든 멤버와 메서드를 받는다\n",
    "#reusability\n",
    "class Laptop(Computer):\n",
    "    \n",
    "\n",
    "    def __init__(self, cpu, ram, battery):\n",
    "        super().__init__(cpu, ram)\n",
    "        self.battery = battery\n",
    "        \n",
    "    def move(self,where):\n",
    "        print('move to {}', where)\n"
   ]
  },
  {
   "cell_type": "code",
   "execution_count": 3,
   "metadata": {},
   "outputs": [],
   "source": [
    "l1 = Laptop('intel',16, 'powerful')"
   ]
  },
  {
   "cell_type": "code",
   "execution_count": 4,
   "metadata": {},
   "outputs": [
    {
     "name": "stdout",
     "output_type": "stream",
     "text": [
      "<__main__.Laptop object at 0x00000187B6842588>\n"
     ]
    }
   ],
   "source": [
    "print(l1)"
   ]
  },
  {
   "cell_type": "code",
   "execution_count": null,
   "metadata": {},
   "outputs": [],
   "source": [
    "# HAS A\n",
    "\n",
    "#police man has a gun\n",
    "#~이 ~를 가지고있다. ~이 ~을 포함하고있다\n",
    "#composition(합성) or aggregation(통합)\n",
    "\n",
    "\n",
    "class Gun:\n",
    "    def __init__(self, gun_kind):\n",
    "        self.gun_kind = gun_kind\n",
    "    def bang(self):\n",
    "        print('bang')\n",
    "        \n",
    "class Poiice:\n",
    "    def __init__(self, gun_kind = ''):\n",
    "        if not gun_kind:\n",
    "            self.gun = None\n",
    "            \n",
    "        else:\n",
    "            self.gun = Gun(gun_kind)\n",
    "    def get_gun(self, gun_kind):\n",
    "        self.gun = Gun(gun_kind)\n",
    "        return\n",
    "        \n",
    "        self.gun.bang()"
   ]
  },
  {
   "cell_type": "code",
   "execution_count": null,
   "metadata": {
    "collapsed": true
   },
   "outputs": [],
   "source": [
    "p1"
   ]
  }
 ],
 "metadata": {
  "kernelspec": {
   "display_name": "Python 3",
   "language": "python",
   "name": "python3"
  },
  "language_info": {
   "codemirror_mode": {
    "name": "ipython",
    "version": 3
   },
   "file_extension": ".py",
   "mimetype": "text/x-python",
   "name": "python",
   "nbconvert_exporter": "python",
   "pygments_lexer": "ipython3",
   "version": "3.6.1"
  }
 },
 "nbformat": 4,
 "nbformat_minor": 2
}
