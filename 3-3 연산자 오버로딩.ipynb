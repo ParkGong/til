{
 "cells": [
  {
   "cell_type": "code",
   "execution_count": 39,
   "metadata": {},
   "outputs": [],
   "source": [
    "#operator overloading\n",
    "#(x,y) -> point\n",
    "\n",
    "class Point:\n",
    "    def __init__(self, x = 0 , y = 0):\n",
    "        self.x=x\n",
    "        self.y=y\n",
    "    def get_point(self):\n",
    "        return self.x , self.y\n",
    "    \n",
    "    def set_point(self, x, y):\n",
    "        self.x = x\n",
    "        self.y = y\n",
    "\n",
    "    def __add__(self,other):\n",
    "        _x = self.x + other\n",
    "        _y = self.y + other\n",
    "        return Point(_x,_y)\n",
    "    \n",
    "    def __radd__(self,other):\n",
    "        return self.__add__(other)\n",
    "    \n",
    "    def __sub__(self,other):\n",
    "        _x = self.x - other\n",
    "        _y = self.y - other\n",
    "        return Point(_x,_y)\n",
    "    \n",
    "    def __rsub__(self,other):\n",
    "        return self.__sub__(other)\n",
    "        \n",
    "        \n",
    "    def __str__(self):\n",
    "        return '({}, {})'.format(self.x,self.y)"
   ]
  },
  {
   "cell_type": "code",
   "execution_count": 40,
   "metadata": {},
   "outputs": [],
   "source": [
    "p1 = Point()\n",
    "\n",
    "\n",
    "p1.set_point(3, 3)"
   ]
  },
  {
   "cell_type": "code",
   "execution_count": 41,
   "metadata": {},
   "outputs": [
    {
     "name": "stdout",
     "output_type": "stream",
     "text": [
      "(3, 3)\n"
     ]
    }
   ],
   "source": [
    "print(p1)"
   ]
  },
  {
   "cell_type": "code",
   "execution_count": 49,
   "metadata": {},
   "outputs": [],
   "source": [
    "p2 = p1 + 5 # p2 = p1.__add__(5)  #객체가 다른데 연산자에 의해서 객체가 다른걸 연산 가능하게 하는게 연산자 오버로딩"
   ]
  },
  {
   "cell_type": "code",
   "execution_count": 35,
   "metadata": {},
   "outputs": [
    {
     "name": "stdout",
     "output_type": "stream",
     "text": [
      "(8, 8)\n"
     ]
    }
   ],
   "source": [
    "print(p2)"
   ]
  },
  {
   "cell_type": "code",
   "execution_count": 43,
   "metadata": {
    "collapsed": true
   },
   "outputs": [],
   "source": [
    "p3 = 5 + p1"
   ]
  },
  {
   "cell_type": "code",
   "execution_count": 44,
   "metadata": {},
   "outputs": [
    {
     "name": "stdout",
     "output_type": "stream",
     "text": [
      "(8, 8)\n"
     ]
    }
   ],
   "source": [
    "print(p3)"
   ]
  },
  {
   "cell_type": "code",
   "execution_count": 47,
   "metadata": {
    "collapsed": true
   },
   "outputs": [],
   "source": [
    "p4 = 10 - p1\n",
    "p5 = p1 - 1"
   ]
  },
  {
   "cell_type": "code",
   "execution_count": 46,
   "metadata": {},
   "outputs": [
    {
     "name": "stdout",
     "output_type": "stream",
     "text": [
      "(-7, -7)\n"
     ]
    }
   ],
   "source": [
    "print(p4)"
   ]
  },
  {
   "cell_type": "code",
   "execution_count": 48,
   "metadata": {},
   "outputs": [
    {
     "name": "stdout",
     "output_type": "stream",
     "text": [
      "(2, 2)\n"
     ]
    }
   ],
   "source": [
    "print(p5)"
   ]
  },
  {
   "cell_type": "code",
   "execution_count": null,
   "metadata": {
    "collapsed": true
   },
   "outputs": [],
   "source": []
  }
 ],
 "metadata": {
  "kernelspec": {
   "display_name": "Python 3",
   "language": "python",
   "name": "python3"
  },
  "language_info": {
   "codemirror_mode": {
    "name": "ipython",
    "version": 3
   },
   "file_extension": ".py",
   "mimetype": "text/x-python",
   "name": "python",
   "nbconvert_exporter": "python",
   "pygments_lexer": "ipython3",
   "version": "3.6.1"
  }
 },
 "nbformat": 4,
 "nbformat_minor": 2
}
