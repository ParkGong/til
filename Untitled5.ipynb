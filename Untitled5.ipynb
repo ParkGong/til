{
 "cells": [
  {
   "cell_type": "code",
   "execution_count": 3,
   "metadata": {},
   "outputs": [
    {
     "name": "stdout",
     "output_type": "stream",
     "text": [
      "stay:   37\n",
      "switch:   63\n"
     ]
    }
   ],
   "source": [
    "import random\n",
    "\n",
    "\n",
    "stay = 0\n",
    "switch = 0\n",
    "\n",
    "for i in range(100):\n",
    "    doors = [1,0,0]\n",
    "    random.shuffle(doors)\n",
    "    \n",
    "    choice = random.randrange(3)\n",
    "    \n",
    "    user = doors[choice]\n",
    "    \n",
    "    if user ==1 :\n",
    "        stay = stay +1\n",
    "    else:\n",
    "        switch = switch +1\n",
    "        \n",
    "print(\"stay: %4d\" % stay)\n",
    "print(\"switch: %4d\" % switch)"
   ]
  },
  {
   "cell_type": "code",
   "execution_count": 4,
   "metadata": {},
   "outputs": [
    {
     "name": "stdout",
     "output_type": "stream",
     "text": [
      "two nums with space2 3\n"
     ]
    }
   ],
   "source": [
    "\n"
   ]
  },
  {
   "cell_type": "code",
   "execution_count": 9,
   "metadata": {},
   "outputs": [
    {
     "name": "stdout",
     "output_type": "stream",
     "text": [
      "two nums with space4 8\n",
      "   4       8 struck \n",
      "   2      16 struck \n",
      "   1      32 struck \n",
      "32\n"
     ]
    }
   ],
   "source": [
    "numbers = str(input(\"two nums with space\")).split()\n",
    "\n",
    "result = 0\n",
    "\n",
    "num1 = int(numbers[0])\n",
    "num2 = int(numbers[1])\n",
    "\n",
    "\n",
    "while num1 >= 1:\n",
    "    if num1 % 2 == 0:\n",
    "        print(\"%4d %7d struck \"% (num1,num2))\n",
    "    else:\n",
    "        print(\"%4d %7d struck \"% (num1,num2))\n",
    "        result += num2\n",
    "        \n",
    "    num1 = num1 //2\n",
    "    num2 = num2 *2 \n",
    "    \n",
    "print(result)"
   ]
  },
  {
   "cell_type": "code",
   "execution_count": null,
   "metadata": {
    "collapsed": true
   },
   "outputs": [],
   "source": []
  },
  {
   "cell_type": "code",
   "execution_count": null,
   "metadata": {
    "collapsed": true
   },
   "outputs": [],
   "source": []
  },
  {
   "cell_type": "code",
   "execution_count": null,
   "metadata": {
    "collapsed": true
   },
   "outputs": [],
   "source": []
  },
  {
   "cell_type": "code",
   "execution_count": null,
   "metadata": {
    "collapsed": true
   },
   "outputs": [],
   "source": []
  },
  {
   "cell_type": "code",
   "execution_count": null,
   "metadata": {
    "collapsed": true
   },
   "outputs": [],
   "source": []
  },
  {
   "cell_type": "code",
   "execution_count": null,
   "metadata": {
    "collapsed": true
   },
   "outputs": [],
   "source": []
  }
 ],
 "metadata": {
  "kernelspec": {
   "display_name": "Python 3",
   "language": "python",
   "name": "python3"
  },
  "language_info": {
   "codemirror_mode": {
    "name": "ipython",
    "version": 3
   },
   "file_extension": ".py",
   "mimetype": "text/x-python",
   "name": "python",
   "nbconvert_exporter": "python",
   "pygments_lexer": "ipython3",
   "version": "3.6.1"
  }
 },
 "nbformat": 4,
 "nbformat_minor": 2
}
