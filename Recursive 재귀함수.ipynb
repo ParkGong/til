{
 "cells": [
  {
   "cell_type": "code",
   "execution_count": null,
   "metadata": {},
   "outputs": [],
   "source": [
    "times = int(input(\"How many times want to curse the beast??: \"))\n",
    "def recurse_beast(a):\n",
    "    if a == 0:\n",
    "        print(\"curse complete!\")\n",
    "    else:\n",
    "        print(\"Fusion!!!(%d times left)\" % a - 1)\n",
    "        recurse_beast(a - 1)\n",
    "        \n",
    "recurse_beast(times)"
   ]
  },
  {
   "cell_type": "code",
   "execution_count": null,
   "metadata": {
    "collapsed": true
   },
   "outputs": [],
   "source": []
  }
 ],
 "metadata": {
  "kernelspec": {
   "display_name": "Python 3",
   "language": "python",
   "name": "python3"
  },
  "language_info": {
   "codemirror_mode": {
    "name": "ipython",
    "version": 3
   },
   "file_extension": ".py",
   "mimetype": "text/x-python",
   "name": "python",
   "nbconvert_exporter": "python",
   "pygments_lexer": "ipython3",
   "version": "3.6.1"
  }
 },
 "nbformat": 4,
 "nbformat_minor": 2
}
