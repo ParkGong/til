{
 "cells": [
  {
   "cell_type": "code",
   "execution_count": 35,
   "metadata": {},
   "outputs": [
    {
     "name": "stdout",
     "output_type": "stream",
     "text": [
      "Ice monster : 50\n",
      "Fire monster : 50\n",
      "after the player attacked\n",
      "Ice monster : 80\n",
      "Fire monster : 20\n"
     ]
    }
   ],
   "source": [
    "from abc import *\n",
    "\n",
    "class Character(metaclass = ABCMeta):\n",
    "    def __init__(self, name, hp, power):\n",
    "        self.name = name\n",
    "        self.HP = hp\n",
    "        self.power = power\n",
    "        \n",
    "    #공통적인 부분은 상위에 모두 담는다\n",
    "    #메서드, 멤버\n",
    "\n",
    "    @abstractmethod\n",
    "    def attack(self, other, attack_kind):\n",
    "        pass\n",
    "\n",
    "    @abstractmethod#추상클래스\n",
    "    def get_damage(self, power, attack_kind):\n",
    "        pass\n",
    "\n",
    "    def __str__(self):\n",
    "        return '{} : {}'.format(self.name, self.HP)\n",
    "\n",
    "class Player(Character):#상속\n",
    "    def __init__(self, name = 'player', hp = 100, power = 10, *attack_kinds):\n",
    "        super().__init__(name, hp, power)\n",
    "\n",
    "        self.skills = []\n",
    "        for attack_kind in attack_kinds:\n",
    "            self.skills.append(attack_kind)\n",
    "\n",
    "    def attack(self, other, attack_kind):\n",
    "        if attack_kind in self.skills:\n",
    "            other.get_damage(self.power, attack_kind)\n",
    "\n",
    "    def get_damage(self, power, attack_kind):\n",
    "        '''\n",
    "        만약 공격 종류가\n",
    "        플레이어의 기술 중 하나라면\n",
    "        데미지를 입지 않습니다. \n",
    "        '''\n",
    "        if attack_kind in self.skills:\n",
    "            return\n",
    "        \n",
    "        self.HP -= power\n",
    "        \n",
    "class Monster(Character):#상속\n",
    "    def __init__(self, name, hp, power):\n",
    "        super().__init__(name, hp, power)\n",
    "        self.attack_kind = 'None'\n",
    "\n",
    "    def attack(self, other, attack_kind):\n",
    "        if self.attack_kind == attack_kind:\n",
    "            other.get_damage(self.power, attack_kind)\n",
    "\n",
    "    def get_damage(self, power, attack_kind):\n",
    "        '''\n",
    "        몬스터는 자신과 타입이 같은 공격을 당하면\n",
    "        오히려 체력이 늘어납니다.\n",
    "        조심해서 공격하세요.\n",
    "        '''\n",
    "        if self.attack_kind == attack_kind:\n",
    "            self.HP += power\n",
    "        else:\n",
    "            self.HP -= power\n",
    "\n",
    "class IceMonster(Monster):#상속의 상속\n",
    "    def __init__(self, name = 'Ice monster', hp = 50, power = 10):\n",
    "        super().__init__(name, hp, power)\n",
    "        self.attack_kind = 'ICE'\n",
    "\n",
    "class FireMonster(Monster):\n",
    "    def __init__(self, name = 'Fire monster', hp = 50, power = 20):\n",
    "        super().__init__(name, hp, power)\n",
    "        self.attack_kind = 'FIRE'\n",
    "\n",
    "if __name__ == \"__main__\":\n",
    "    player = Player('sword master',100, 30, 'ICE', 'FIRE')\n",
    "    monsters = []\n",
    "    monsters.append(IceMonster())\n",
    "    monsters.append(FireMonster())\n",
    "    \n",
    "    for monster in monsters:\n",
    "        print(monster)\n",
    "\n",
    "    for monster in monsters:\n",
    "        player.attack(monster, 'ICE')\n",
    "\n",
    "    print('after the player attacked')\n",
    "\n",
    "    for monster in monsters:\n",
    "        print(monster)\n",
    "    \n",
    "            "
   ]
  },
  {
   "cell_type": "code",
   "execution_count": 36,
   "metadata": {},
   "outputs": [],
   "source": [
    "player = Player('great', 120, 30,'ICE', 'FIRE')"
   ]
  },
  {
   "cell_type": "code",
   "execution_count": 37,
   "metadata": {},
   "outputs": [
    {
     "name": "stdout",
     "output_type": "stream",
     "text": [
      "great : 120\n"
     ]
    }
   ],
   "source": [
    "print(player)"
   ]
  },
  {
   "cell_type": "code",
   "execution_count": 38,
   "metadata": {},
   "outputs": [],
   "source": [
    "ice_monster = IceMonster()"
   ]
  },
  {
   "cell_type": "code",
   "execution_count": 39,
   "metadata": {
    "collapsed": true
   },
   "outputs": [],
   "source": [
    "monsters=[]"
   ]
  },
  {
   "cell_type": "code",
   "execution_count": 40,
   "metadata": {},
   "outputs": [],
   "source": [
    "monsters.append(ice_monster)"
   ]
  },
  {
   "cell_type": "code",
   "execution_count": 41,
   "metadata": {},
   "outputs": [],
   "source": [
    "monsters.append(FireMonster())"
   ]
  },
  {
   "cell_type": "code",
   "execution_count": 42,
   "metadata": {},
   "outputs": [
    {
     "name": "stdout",
     "output_type": "stream",
     "text": [
      "Ice monster : 50\n",
      "Fire monster : 50\n"
     ]
    }
   ],
   "source": [
    "for monster in monsters:\n",
    "    print(monster)"
   ]
  },
  {
   "cell_type": "code",
   "execution_count": 43,
   "metadata": {},
   "outputs": [],
   "source": [
    "for monster in monsters:\n",
    "    player.attack(monster, 'ICE')"
   ]
  },
  {
   "cell_type": "code",
   "execution_count": 44,
   "metadata": {},
   "outputs": [
    {
     "name": "stdout",
     "output_type": "stream",
     "text": [
      "Ice monster : 80\n",
      "Fire monster : 20\n"
     ]
    }
   ],
   "source": [
    "for monster in monsters:\n",
    "    print (monster)"
   ]
  },
  {
   "cell_type": "code",
   "execution_count": null,
   "metadata": {
    "collapsed": true
   },
   "outputs": [],
   "source": []
  },
  {
   "cell_type": "code",
   "execution_count": null,
   "metadata": {
    "collapsed": true
   },
   "outputs": [],
   "source": []
  }
 ],
 "metadata": {
  "kernelspec": {
   "display_name": "Python 3",
   "language": "python",
   "name": "python3"
  },
  "language_info": {
   "codemirror_mode": {
    "name": "ipython",
    "version": 3
   },
   "file_extension": ".py",
   "mimetype": "text/x-python",
   "name": "python",
   "nbconvert_exporter": "python",
   "pygments_lexer": "ipython3",
   "version": "3.6.1"
  }
 },
 "nbformat": 4,
 "nbformat_minor": 2
}
