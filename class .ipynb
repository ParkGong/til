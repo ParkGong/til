{
 "cells": [
  {
   "cell_type": "code",
   "execution_count": 64,
   "metadata": {
    "collapsed": true
   },
   "outputs": [],
   "source": [
    "#class : account\n",
    "#첫문장은 대문자\n",
    "\n",
    "class Account:\n",
    "    \n",
    "    interest_rate = 7.5\n",
    "    name = 'good life'\n",
    "    \n",
    "    \n",
    "    def __init__(self, name, money):\n",
    "        #instance member 연관있는변수\n",
    "        self.user = name\n",
    "        self.ballance = money\n",
    "    #소멸자\n",
    "    #주 목적은 메모리 해제\n",
    "    def __del__(self):\n",
    "        print('object del')\n",
    "    \n",
    "    @classmethod\n",
    "    \n",
    "    \n",
    "    \n",
    "    \n",
    "    \n",
    "    \n",
    "    \n",
    "    #intance method 연관있는 함수들의 모임\n",
    "    def deposit(self,money):\n",
    "        if money <= 0:\n",
    "            return None\n",
    "        else:\n",
    "            self.ballance += money\n",
    "            return self.ballance\n",
    "        \n",
    "    def withdraw(self, money):\n",
    "        \n",
    "        ''' withdraw(money)-> bool\n",
    "        '''\n",
    "        if money <= self.ballance:\n",
    "            self.ballance -= money\n",
    "            return True\n",
    "        else:\n",
    "            return False\n",
    "        \n",
    "        \n",
    "        \n",
    "    def __str__(self):\n",
    "        return '{}: {}'.format(self.user,self.ballance)\n",
    "    \n",
    "    def transfer(self,other, money):\n",
    "        mon = self.withdraw(money)\n",
    "        if mon:\n",
    "            #상대 객체의 메서드를 호출\n",
    "            other.deposit(money)\n",
    "            return True\n",
    "        else:\n",
    "            return False"
   ]
  },
  {
   "cell_type": "code",
   "execution_count": 65,
   "metadata": {},
   "outputs": [
    {
     "name": "stdout",
     "output_type": "stream",
     "text": [
      "object del\n",
      "object del\n"
     ]
    }
   ],
   "source": [
    "my_accnt =  Account('parkgong', 200)\n",
    "your_accnt = Account('Jdr', 300)"
   ]
  },
  {
   "cell_type": "code",
   "execution_count": 66,
   "metadata": {},
   "outputs": [
    {
     "name": "stdout",
     "output_type": "stream",
     "text": [
      "parkgong: 200\n"
     ]
    }
   ],
   "source": [
    "print(my_accnt)"
   ]
  },
  {
   "cell_type": "code",
   "execution_count": 67,
   "metadata": {},
   "outputs": [
    {
     "data": {
      "text/plain": [
       "3200"
      ]
     },
     "execution_count": 67,
     "metadata": {},
     "output_type": "execute_result"
    }
   ],
   "source": [
    "my_accnt.deposit(3000)"
   ]
  },
  {
   "cell_type": "code",
   "execution_count": 68,
   "metadata": {},
   "outputs": [
    {
     "data": {
      "text/plain": [
       "True"
      ]
     },
     "execution_count": 68,
     "metadata": {},
     "output_type": "execute_result"
    }
   ],
   "source": [
    "my_accnt.transfer(your_accnt, 300)\n",
    "my_accnt.transfer(your_accnt, 300)"
   ]
  },
  {
   "cell_type": "code",
   "execution_count": 69,
   "metadata": {},
   "outputs": [
    {
     "name": "stdout",
     "output_type": "stream",
     "text": [
      "parkgong: 2600\n"
     ]
    }
   ],
   "source": [
    "print(my_accnt)"
   ]
  },
  {
   "cell_type": "code",
   "execution_count": 70,
   "metadata": {
    "collapsed": true
   },
   "outputs": [],
   "source": [
    "# mathod :__func__ , __self__"
   ]
  },
  {
   "cell_type": "code",
   "execution_count": null,
   "metadata": {
    "collapsed": true
   },
   "outputs": [],
   "source": []
  },
  {
   "cell_type": "code",
   "execution_count": null,
   "metadata": {
    "collapsed": true
   },
   "outputs": [],
   "source": []
  }
 ],
 "metadata": {
  "kernelspec": {
   "display_name": "Python 3",
   "language": "python",
   "name": "python3"
  },
  "language_info": {
   "codemirror_mode": {
    "name": "ipython",
    "version": 3
   },
   "file_extension": ".py",
   "mimetype": "text/x-python",
   "name": "python",
   "nbconvert_exporter": "python",
   "pygments_lexer": "ipython3",
   "version": "3.6.1"
  }
 },
 "nbformat": 4,
 "nbformat_minor": 2
}
